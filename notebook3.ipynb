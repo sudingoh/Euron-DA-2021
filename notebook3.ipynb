{
 "cells": [
  {
   "cell_type": "markdown",
   "metadata": {},
   "source": [
    "# 코로나19 데이터 및 전국 교통량 데이터 분석을 통한 \"코로나 대확산 선행지표\" 개발  \n",
    "  \n",
    "- 본 분석에서는 시기별 지역별 코로나19 확진자 수 데이터와 전국의 시/도 간 교통량 데이터를 분석하여 \"코로나 대확산 선행지표\"를 개발하고자 했습니다.   \n",
    "- 최근 전문가들은 외출 등 야외활동이 곧 코로나19 확산 위험을 높이는 행동이기 때문에, 전 국민들이 가급적 외출을 자제할 것을 지속적으로 권고하고 있습니다.\n",
    "- 이와 같은 전문가들의 권고를 토대로, 본 분석에서는 '사람들의 이동량이 많을수록 코로나19 전파가 빠르게 일어났을 것'이라는 가설을 세웠습니다. 그리고 이 가설이 타당하다면 이를 바탕으로 코로나19 대확산이 일어날 위험도를 예측하는 선행지표를 개발할 수 있을 것이라고 생각했습니다."
   ]
  },
  {
   "cell_type": "markdown",
   "metadata": {},
   "source": [
    "보다 구체적으로, 본 분석에서는 아래와 같은 두 가지 가설을 검증하고자 했습니다.  \n",
    "  \n",
    "- 시기별로 보았을 때, 전국의 교통량 변화 추이와 코로나19 확진자 발생 추이 사이에 관계가 있을 것이다\n",
    "- 지역별로 보았을 때, 지역 간 이동 교통량(지역 간 연결성)과 지역 간 코로나19 전파량 사이에 관계가 있을 것이다   \n",
    "  \n",
    "여러 데이터를 다각도로 분석한 결과, 현재까지 아래와 같은 결론을 얻을 수 있었습니다.(추후 지속적인 업데이트를 통해 발전사항을 반영하도록 하겠습니다.)  \n",
    "- 시기별로 보았을 때, 전 주 대비 교통량이 급증한 주간에 대규모 집단감염이 발생할 위험이 높아졌다\n",
    "- 지역별로 보았을 때, 대중교통/고속도로 이동량으로 확인되는 \"지역 간 연결성\"이 서로 높은 지역들은 \"코로나19 지역 간 전파\"가 발생할 위험 또한 높아졌다."
   ]
  },
  {
   "cell_type": "markdown",
   "metadata": {},
   "source": [
    "## 목차  \n",
    "\n",
    "- 환경 세팅\n",
    "- 사용 데이터  \n",
    "\n",
    "1. 날짜별 전국 코로나19 확진자 수 데이터 분석\n",
    "2. 코로나19 감염사례 데이터 분석\n",
    "3. 발권 OD 데이터 분석\n",
    "4. 교통카드 OD 데이터 분석\n",
    "5. DSRC 데이터 분석\n",
    "6. 코로나 대확산 선행지표 개발\n",
    "7. 결론"
   ]
  },
  {
   "cell_type": "markdown",
   "metadata": {},
   "source": [
    "## 환경세팅\n",
    "- 분석환경 : 주피터 노트북"
   ]
  },
  {
   "cell_type": "code",
   "execution_count": 1,
   "metadata": {},
   "outputs": [],
   "source": [
    "# # 구글 드라이브 마운트\n",
    "# from google.colab import drive\n",
    "# drive.mount('/content/drive')\n",
    "\n",
    "# !pip install geopandas"
   ]
  },
  {
   "cell_type": "code",
   "execution_count": null,
   "metadata": {},
   "outputs": [],
   "source": [
    "import pandas as pd\n",
    "import numpy as np\n",
    "\n",
    "import sklearn\n",
    "from sklearn.model_selection import KFold\n",
    "from sklearn.metrics import r2_score\n",
    "from sklearn.linear_model import HuberRegressor\n",
    "\n",
    "import re, copy\n",
    "\n",
    "import geopandas as gpd\n",
    "import folium\n",
    "\n",
    "import matplotlib as mpl\n",
    "import matplotlib.pyplot as plt\n",
    "import seaborn as sns\n",
    "from PIL import Image\n",
    "plt.style.use('fivethirtyeight')\n",
    "\n",
    "# matplotlib 한글폰트 세팅\n",
    "# !sudo apt-get install -y fonts-nanum\n",
    "# !sudo fc-cache -fv\n",
    "# !rm ~/.cache/matplotlib -rf\n",
    "\n",
    "print('>>> 라이브러리 버전 :')\n",
    "print(f'pandas : {pd.__version__}\\t\\t numpy : {np.__version__}\\t\\t sklearn : {sklearn.__version__}  |  \\n' +\\\n",
    "      f'geopandas : {gpd.__version__}\\t folium : {folium.__version__}\\t matplotlib : {mpl.__version__}  |  \\n' +\\\n",
    "      f'seaborn : {sns.__version__}')\n",
    "\n",
    "\n",
    "plt.rc('font', family='malgun gothic')\n",
    "plt.rcParams[\"axes.unicode_minus\"] = False\n",
    "plt.figure(figsize=(1, 1))\n",
    "plt.text(0.1, 0.1, '-한글 테스트')\n",
    "plt.show()\n",
    "\n",
    "\n",
    "# 데이터 메모리 축소 함수\n",
    "def reduce_mem_usage(input_df, verbose=False):\n",
    "    df = input_df.copy()\n",
    "\n",
    "    numerics = ['int16', 'int32', 'int64', 'float16', 'float32', 'float64']\n",
    "    start_mem = df.memory_usage().sum() / 1024**2\n",
    "    for col in df.columns:\n",
    "        col_type = df[col].dtypes\n",
    "        if col_type in numerics:\n",
    "            c_min = df[col].min()\n",
    "            c_max = df[col].max()\n",
    "            if str(col_type)[:3] == 'int':\n",
    "                if c_min > np.iinfo(np.int8).min and c_max < np.iinfo(np.int8).max:\n",
    "                    df[col] = df[col].astype(np.int8)\n",
    "                elif c_min > np.iinfo(np.int16).min and c_max < np.iinfo(np.int16).max:\n",
    "                    df[col] = df[col].astype(np.int16)\n",
    "                elif c_min > np.iinfo(np.int32).min and c_max < np.iinfo(np.int32).max:\n",
    "                    df[col] = df[col].astype(np.int32)\n",
    "                elif c_min > np.iinfo(np.int64).min and c_max < np.iinfo(np.int64).max:\n",
    "                    df[col] = df[col].astype(np.int64)\n",
    "            else:\n",
    "                if c_min > np.finfo(np.float16).min and c_max < np.finfo(np.float16).max:\n",
    "                    df[col] = df[col].astype(np.float16)\n",
    "                elif c_min > np.finfo(np.float32).min and c_max < np.finfo(np.float32).max:\n",
    "                    df[col] = df[col].astype(np.float32)\n",
    "                else:\n",
    "                    df[col] = df[col].astype(np.float64)\n",
    "\n",
    "    end_mem = df.memory_usage().sum() / 1024**2\n",
    "    \n",
    "    if verbose:\n",
    "        print('Memory usage after optimization is: {:.2f} MB'.format(end_mem))\n",
    "        print('Decreased by {:.1f}%'.format(100 * (start_mem - end_mem) / start_mem))\n",
    "\n",
    "    return df\n",
    "\n",
    "\n",
    "# 코로나19 확진자 데이터 전처리 함수\n",
    "def covid_preprocessing(df):\n",
    "  df['date'] = pd.to_datetime(df['date'])\n",
    "  df['confirmed_D-1'] = [0] + df['confirmed'].iloc[:-1].tolist()\n",
    "  df['confirmed_new'] = df['confirmed'] - df['confirmed_D-1']\n",
    "\n",
    "  pre_weeks_df = pd.DataFrame(pd.date_range(pd.to_datetime('2020-01-01'), pd.to_datetime('2020-01-19')),\n",
    "                              columns=['date'])\n",
    "  df = pd.merge(pre_weeks_df, df, 'outer', 'date').fillna(0)\n",
    "\n",
    "  df['month'] = df['date'].dt.month\n",
    "  df['weekofyear'] = df['date'].dt.weekofyear\n",
    "  df = df.groupby(['month', 'weekofyear'])['confirmed_new'].sum().reset_index().astype(int)\n",
    "  return df\n",
    "\n",
    "\n",
    "# 코로나19 확진자 데이터 시각화 함수\n",
    "def plot_covid(df, time_bin='weekofyear', show_pandemic_week=True):\n",
    "  col='confirmed_new'\n",
    "  tmp_df = df.groupby(time_bin)[col].sum().reset_index()\n",
    "  tmp_df[time_bin] = tmp_df[time_bin].apply(lambda x:f'{time_bin}_{x}')\n",
    "\n",
    "  plt.figure(figsize=(18, 6))\n",
    "  pal = sns.color_palette(\"Reds_d\", tmp_df.shape[0])\n",
    "  rank = tmp_df[col].argsort().argsort()\n",
    "  sns.barplot(data=tmp_df, x=time_bin, y=col, palette=np.array(pal[::-1])[rank])\n",
    "  if time_bin=='weekofyear' and show_pandemic_week:\n",
    "    plt.axvline(7.5, color='red')\n",
    "    plt.axvline(13.5, color='red')\n",
    "    plt.axvspan(7.5, 13.5, facecolor='red', alpha=0.1, label='코로나19 대확산 시기')\n",
    "    plt.legend(fontsize=15)\n",
    "  \n",
    "  region_kor = '전국'\n",
    "  time_bin_kor = '주차별' if time_bin=='weekofyear' else '월별'\n",
    "  title = f'{region_kor} {time_bin_kor} 신규 확진자 수'\n",
    "  plt.title(title, size=20)\n",
    "  plt.xticks(rotation=45, size=15, ha='right') if time_bin=='weekofyear' else  plt.xticks(size=15)\n",
    "  plt.xlabel(time_bin_kor, size=15)\n",
    "  plt.ylabel(col, size=15)\n",
    "  plt.show()\n",
    "  return\n",
    "\n",
    "\n",
    "# 특정 집단감염 사례 정보 출력 함수\n",
    "def show_infection_case(case='Shincheonji Church'):\n",
    "  info_df = big_case_df[(big_case_df.infection_case==case) & (big_case_df.city!='타도시')]\n",
    "  print(f'사례 : {case_kor_dict[case]} (발생지역 : {info_df[\"province\"].iloc[0]}, {info_df[\"city\"].iloc[0]})')\n",
    "  tmp_df = sido_infection_by_case[case]\n",
    "  tmp_df = tmp_df[(tmp_df>0) & (tmp_df.index!='All')]\n",
    "  display(tmp_df.sort_values(ascending=False).to_frame().T)\n",
    "\n",
    "\n",
    "# 기간별 전국 교통량 합산 및 시각화 함수\n",
    "def plot_OD_traffic_by_time(df, by='year', y_col='TOTAL_TRFC_STF', date_col='OPRAT_DATE', title='연도별 합산 통행인원', figsize=(5, 5)):\n",
    "  plt.rcParams.update({'font.size': 15})\n",
    "  cols = list(set(['year', by]))\n",
    "\n",
    "  tmp_df = df[[date_col, y_col]].copy()\n",
    "  tmp_df['year'] = tmp_df[date_col].dt.year\n",
    "\n",
    "  if by == 'year':\n",
    "    pass\n",
    "  elif by == 'month':\n",
    "    tmp_df[by] = tmp_df[date_col].dt.month\n",
    "  elif by == 'weekofyear':\n",
    "    tmp_df[by] = tmp_df[date_col].dt.weekofyear\n",
    "    tmp_df = tmp_df[tmp_df.weekofyear.isin(range(tmp_df.weekofyear.min()+1, tmp_df.weekofyear.max()))]  # 데이터 불완전한 첫주&마지막주 제외\n",
    "    tmp_df['weekofyear'] = tmp_df['weekofyear'].apply(lambda x : f'0{x}주차'[-4:])\n",
    "  elif by == 'dayofweek':\n",
    "    tmp_df[by] = tmp_df[date_col].dt.dayofweek\n",
    "    tmp_df['weekofyear'] = tmp_df[date_col].dt.weekofyear\n",
    "    tmp_df = tmp_df[tmp_df.weekofyear.isin(range(tmp_df.weekofyear.min()+1, tmp_df.weekofyear.max()))]  # 데이터 불완전한 첫주&마지막주 제외\n",
    "  \n",
    "  tmp_df = tmp_df.groupby(cols)[y_col].sum().divide(1000000).reset_index()\n",
    "\n",
    "  if by != 'year':\n",
    "    display(tmp_df.pivot('year', by, y_col).round(2))\n",
    "    print('\\n')\n",
    "  if by == 'dayofweek':\n",
    "    dayofweek_list = ['월요일', '화요일', '수요일', '목요일', '금요일', '토요일', '일요일']\n",
    "    tmp_df['dayofweek'] = tmp_df['dayofweek'].apply(lambda x : dayofweek_list[x])\n",
    "  \n",
    "  plt.figure(figsize=figsize)\n",
    "  if by == 'year':\n",
    "    sns.barplot(x='year', y=y_col, data=tmp_df)\n",
    "    msg_height = plt.gca().get_ylim()[1] * 0.1\n",
    "    for idx, val in enumerate(tmp_df[y_col]):\n",
    "      plt.text(idx, val-msg_height, f'{val:.2f}', color='white', fontweight='bold', ha='center')\n",
    "  else:\n",
    "    sns.barplot(x=by, y=y_col, hue='year', data=tmp_df)\n",
    "    msg_height = plt.gca().get_ylim()[1] * 0.05\n",
    "    for idx, (trans19, trans20) in enumerate(zip(tmp_df.loc[tmp_df.year==2019, y_col], tmp_df.loc[tmp_df.year==2020, y_col])):\n",
    "      plt.text(idx-0.2, msg_height, f'{trans19:.2f}', color='white', rotation=90, fontweight='bold', ha='center')\n",
    "      plt.text(idx+0.2, msg_height, f'{trans20:.2f}', color='white', rotation=90, fontweight='bold', ha='center')\n",
    "    plt.legend(loc='lower center', bbox_to_anchor=(0.5, -0.25), ncol=2)\n",
    "\n",
    "  plt.title(title)\n",
    "  plt.ylabel('통행량 (백만 대)') if y_col=='가상OBU_ID_COUNT' else plt.ylabel('통행량 (백만 명)')\n",
    "  plt.xlabel(None)\n",
    "  plt.show()\n",
    "\n",
    "\n",
    "# 특정 지역발/지역행 시도별 통행량 시각화 함수\n",
    "def plot_traffic_by_sido(tmp_df, from_sido=None, to_sido=None, date_range=None, title=None, divide_num=1000):\n",
    "  ycol = 'TOTAL_TRFC_STF' if 'TOTAL_TRFC_STF' in tmp_df.columns else 'TRFC_STF' if 'TRFC_STF' in tmp_df.columns else '가상OBU_ID_COUNT'\n",
    "  date_col = 'OPRAT_DATE' if ycol in ['TOTAL_TRFC_STF', 'TRFC_STF'] else '기준일자'\n",
    "  depart_col = '출발_시도명' if ycol in ['TOTAL_TRFC_STF', 'TRFC_STF'] else '출발_시도_NM'\n",
    "  arrive_col = '도착_시도명' if ycol in ['TOTAL_TRFC_STF', 'TRFC_STF'] else '도착_시도_NM'\n",
    "\n",
    "  if date_range is not None:\n",
    "    tmp_df = tmp_df[(tmp_df[date_col] >= date_range[0]) & (tmp_df[date_col] <= date_range[1])]\n",
    "\n",
    "  if from_sido is not None:\n",
    "    tmp_df = tmp_df[(tmp_df[depart_col]==from_sido) & (tmp_df[arrive_col]!=from_sido)]\\\n",
    "                .groupby(arrive_col)[ycol].sum()\n",
    "  elif to_sido is not None:\n",
    "    tmp_df = tmp_df[(tmp_df[arrive_col]==to_sido) & (tmp_df[depart_col]!=to_sido)]\\\n",
    "                .groupby(depart_col)[ycol].sum()\n",
    "  else:\n",
    "    raise Exception('출발 시도 또는 도착 시도를 입력해 주세요')\n",
    "  \n",
    "  tmp_df = tmp_df.sort_values(ascending=False).divide(divide_num)\n",
    "\n",
    "  tmp_df.plot.bar(figsize=(15, 6), title=title)\n",
    "  plt.xticks(rotation=45, ha='center')\n",
    "  plt.show()\n",
    "\n",
    "  return tmp_df\n",
    "\n",
    "\n",
    "# 시도별 통행량 GeoDataFrame 생성/전처리 함수\n",
    "def merge_gdf(main_gdf, value_df, left_on='CTP_KOR_NM', right_on='도착_시도명', divide_num=1):\n",
    "\n",
    "  if type(value_df) == pd.Series:\n",
    "    value_df = value_df.reset_index()\n",
    "  value_col = [col for col in value_df.columns if col != right_on][0]\n",
    "\n",
    "  tmp_gdf = main_gdf.copy()\n",
    "  tmp_gdf = tmp_gdf.merge(value_df, how='left', left_on=left_on, right_on=right_on)\n",
    "  tmp_gdf[value_col] = tmp_gdf[value_col].divide(divide_num)\n",
    "  \n",
    "  # tooltip 생성\n",
    "  tmp_gdf['통행량 정보'] = tmp_gdf.apply( lambda row : f\"<strong>{row[left_on]}</strong><br>\" +\\\n",
    "                                                        f\"지역 간 연결성 : {row[value_col]:.2f}\",\n",
    "                                          axis=1 )  \n",
    "  return tmp_gdf\n",
    "\n",
    "\n",
    "# 시도별 통행량 지도 시각화 함수 - 코랩에서 런타임 연결 끊어짐\n",
    "def plot_choropleth_by_sido(gdf, value_col, sido_col='CTP_KOR_NM'):\n",
    "    region = tmp_gdf.loc[(tmp_gdf[value_col].isna()) & (tmp_gdf[sido_col]!='제주특별자치도'), sido_col].iloc[0]\n",
    "    map_name = f'2020년 1~5월 시도별 {region} 출발 통행량 지도'\n",
    "\n",
    "    m = folium.Map(location=[36, 127], tiles=\"Stamen Toner\", zoom_start=7)\n",
    "\n",
    "    choropleth = folium.Choropleth(\n",
    "      geo_data=gdf, data=gdf[[sido_col, value_col]], columns=[sido_col, value_col],\n",
    "      name=map_name, legend_name = '통행량',\n",
    "      key_on=f'feature.properties.{sido_col}', fill_color='Oranges', fill_opacity=0.95, \n",
    "      line_opacity=1, line_color='white', line_weight=2,color = 'gray',\n",
    "    ).add_to(m)\n",
    "    folium.LayerControl().add_to(m)\n",
    "    choropleth.geojson.add_child(folium.features.GeoJsonTooltip(['통행량 정보']))\n",
    "\n",
    "    return map_name, m\n",
    "\n",
    "\n",
    "# 주차별 통행량 추출 함수\n",
    "def get_weekly_traffic(df, y_col='TOTAL_TRFC_STF', date_col='OPRAT_DATE', only2020=True):\n",
    "  tmp_df = df[[date_col, y_col]].copy()\n",
    "  tmp_df['year'] = tmp_df[date_col].dt.year\n",
    "  tmp_df['weekofyear'] = tmp_df[date_col].dt.weekofyear\n",
    "  tmp_df = tmp_df[tmp_df.weekofyear.isin(range(tmp_df.weekofyear.min()+1, tmp_df.weekofyear.max()))]  # 데이터 불완전한 첫주&마지막주 제외\n",
    "  tmp_df['weekofyear'] = tmp_df['weekofyear'].apply(lambda x : f'0{x}주차'[-4:])\n",
    "  tmp_df = tmp_df.groupby(['year', 'weekofyear'])[y_col].sum().divide(1000000).reset_index()\n",
    "\n",
    "  if only2020:\n",
    "    tmp_df = tmp_df[tmp_df.year==2020].drop(columns='year').reset_index(drop=True)\n",
    "\n",
    "  return tmp_df"
   ]
  },
  {
   "cell_type": "markdown",
   "metadata": {},
   "source": [
    "## 사용 데이터  \n",
    "(노트북 실행 시 메모리 문제로 인해, 전처리 후 parquet 포맷으로 압축한 데이터를 불러와 실행함)\n",
    "\n",
    "- 날짜별 코로나19 확진자 수 통계 데이터 (Time.csv)\n",
    "- 코로나19 감염사례 데이터 (Case.csv)\n",
    "- 지역코드 데이터 (DD_AREA.dat)\n",
    "- 전국 시/도 경계 데이터 (외부 데이터)\n",
    "- 교통카드빅데이터 중 발권 OD 데이터 (DM_OD_NTSS_T.dat)\n",
    "- 교통카드빅데이터 중 교통카드 OD 데이터 (DM_OD_TRCRD_T.dat)\n",
    "- 한국도로공사 DSRC 데이터 (DSRC_DSRC_ORIGIN_*.csv)"
   ]
  },
  {
   "cell_type": "code",
   "execution_count": null,
   "metadata": {},
   "outputs": [],
   "source": [
    "data_dir = 'data/'\n",
    "\n",
    "# 날짜별 전국 코로나19 확진자 수 데이터\n",
    "covid_df = pd.read_csv(data_dir + 'COVID_19/Time.csv', usecols=['date', 'confirmed'])\n",
    "covid_df = covid_preprocessing(covid_df)\n",
    "\n",
    "# 집단감염 사례 정보 데이터\n",
    "case_df = pd.read_csv(data_dir + 'COVID_19/Case.csv')\n",
    "\n",
    "# 지역코드 데이터\n",
    "dd_area_df = pd.read_csv(data_dir + 'DD_AREA.dat', sep='|', header=None)\n",
    "dd_area_df.columns = ['area_cd', 'sido_cd', 'sgg_cd', 'use_area_cd', 'sido_nm', 'sgg_nm', 'emd_nm']\n",
    "sido_dict = dict(dd_area_df[['sido_cd', 'sido_nm']].drop_duplicates().values)\n",
    "sgg_dict = dict(dd_area_df[['sgg_cd', 'sgg_nm']].drop_duplicates().values)\n",
    "\n",
    "# 전국 시/도 경계 데이터\n",
    "district_geo_df = gpd.read_file(data_dir + 'sido_CTPRVN_202005/CTPRVN.shp', encoding='cp949')\n",
    "district_geo_df['CTPRVN_CD'] = district_geo_df['CTPRVN_CD'].astype(int)\n",
    "\n",
    "# 전처리된 발권 OD 데이터\n",
    "ticket_df = pd.read_parquet(data_dir + 'DM_OD_NTSS_T.parquet', columns=['YYYYMM', 'OPRAT_DATE', 'STG_SD_CD', 'ARR_SD_CD', 'RLRD_TRFC_STF', 'ITCBUS_TRFC_STF', 'EXPBUS_TRFC_STF'])\n",
    "ticket_df = ticket_df[~(ticket_df.STG_SD_CD.isin(['~','99'])) & ~(ticket_df.ARR_SD_CD.isin(['~','99']))]  # 이상치 제거\n",
    "ticket_df = ticket_df.astype(int)\n",
    "ticket_df = reduce_mem_usage(ticket_df.groupby(['YYYYMM', 'OPRAT_DATE', 'STG_SD_CD', 'ARR_SD_CD']).sum().reset_index())\n",
    "ticket_df['OPRAT_DATE'] = pd.to_datetime(ticket_df['OPRAT_DATE'], format='%Y%m%d')\n",
    "ticket_df['TOTAL_TRFC_STF'] = ticket_df[['RLRD_TRFC_STF', 'ITCBUS_TRFC_STF', 'EXPBUS_TRFC_STF']].sum(axis=1)\n",
    "ticket_df['출발_시도명'] = ticket_df['STG_SD_CD'].apply(lambda x : sido_dict[int(x)])\n",
    "ticket_df['도착_시도명'] = ticket_df['ARR_SD_CD'].apply(lambda x : sido_dict[int(x)])\n",
    "\n",
    "# 전처리된 교통카드 OD 데이터\n",
    "card_df = pd.read_parquet(data_dir + 'DM_OD_TRCRD_T_sam_200818.parquet', columns=['OPRAT_DATE', 'STG_SD_CD', 'ARR_SD_CD', 'TRFC_STF'])\n",
    "card_df = card_df.groupby(['OPRAT_DATE', 'STG_SD_CD', 'ARR_SD_CD'])['TRFC_STF'].sum().reset_index()\n",
    "card_df = reduce_mem_usage(card_df)\n",
    "card_df['OPRAT_DATE'] = pd.to_datetime(card_df['OPRAT_DATE'], format='%Y%m%d')\n",
    "card_df['출발_시도명'] = card_df['STG_SD_CD'].apply(lambda x : sido_dict[int(x)])\n",
    "card_df['도착_시도명'] = card_df['ARR_SD_CD'].apply(lambda x : sido_dict[int(x)])\n",
    "\n",
    "## 전처리된 DSRC 데이터\n",
    "dsrc_df = pd.read_parquet(data_dir + 'DSRC_기준일자별_출발도착_지역별_가상OBUID_sum.parquet')\n",
    "dsrc_df['가상OBU_ID_COUNT'] = dsrc_df['가상OBU_ID_COUNT'].astype(int)\n",
    "dsrc_df['기준일자'] = pd.to_datetime(dsrc_df['기준일자'])"
   ]
  },
  {
   "cell_type": "markdown",
   "metadata": {},
   "source": [
    "## 1. 코로나19 데이터 분석 - 시기별 전국 코로나19 확진자 수  \n",
    "- 날짜별 누적 확진자 데이터를 전처리하여, 날짜별 신규 확진자 수를 추출\n",
    "- 월별 및 주차별 신규 확진자 수를 시각화하여, 기간별 확진자 발생 추이를 확인\n",
    "- 시간범위 : 2020년 1~6월 (6개월 간)"
   ]
  },
  {
   "cell_type": "code",
   "execution_count": null,
   "metadata": {},
   "outputs": [],
   "source": [
    "# 전국 확진자 추이\n",
    "plot_covid(covid_df, time_bin='month')\n",
    "print()\n",
    "plot_covid(covid_df, time_bin='weekofyear')"
   ]
  },
  {
   "cell_type": "markdown",
   "metadata": {},
   "source": [
    "- 시기별 분석을 위해 월별, 주차별 확진자 추이를 살펴봄\n",
    "- 월별 코로나19 신규 확진자 수를 살펴볼 때, 신천지 집단감염 사태가 있었던 2~3월 신규 확진자 수가 만 명을 육박하는 가장 많은 비중을 차지했으며, 이태원 클럽 및 리치웨이 집단감염 사태 등 서울시에서 일어난 집단감염 사태들로 인해 5-6월에도 1300명 이상의 높은 수치를 기록함\n",
    "- 주차별 코로나19 신규 확진자 수를 살펴볼 때, 신천지 집단감염 사태로 인해 8주차에서 14주차 사이(7주 간)에 가장 높은 수치를 기록함. 또한 이태원 집단감염 사태가 있었던 19주차 이후에도 다시 증가 추세를 보임\n"
   ]
  },
  {
   "cell_type": "markdown",
   "metadata": {},
   "source": [
    "## 2. 코로나19 데이터 분석 - 지역별 감염사례\n",
    "- 각 지역별로 코로나19 감염사례별 확진자 수를 제공하는 데이터\n",
    "- 감염사례 중 '지역 간 전파'가 일어난 집단감염 사례만 추출  \n",
    "(지역 간 전파 : 특정 감염사례로 인해 3개 이상 시/도에서 관련 확진자 발생)\n",
    "- 시간범위 : 2020년 1~6월 (6개월 간)"
   ]
  },
  {
   "cell_type": "code",
   "execution_count": null,
   "metadata": {},
   "outputs": [],
   "source": [
    "# 감염사례 수 확인\n",
    "print('>>> 감염 사례 수 :', case_df.infection_case.nunique())\n",
    "print('>>> 집단감염 사례 수 :', case_df[case_df.group].infection_case.nunique())\n",
    "print(f'>>> 비집단감염 사례({case_df[~case_df.group].infection_case.nunique()}) : {case_df[~case_df.group].infection_case.unique()}')\n",
    "print(f'>>> 집단감염 사례 확진자 비중 : {case_df[case_df.group].confirmed.sum()/case_df.confirmed.sum()*100:.2f}%')\n",
    "\n",
    "# 누락 확진자 수 확인\n",
    "tmp_df = pd.read_csv(data_dir + 'COVID_19/Time.csv')\n",
    "confirm_num = tmp_df.loc[tmp_df.date=='2020-06-30', 'confirmed'].iloc[0]\n",
    "print('\\n>>> 6월 30일 기준 실제 누적 확진자 수  :', confirm_num)\n",
    "print(f'>>> Case.csv 제공 확진자 수 : {case_df.confirmed.sum()} ({case_df.confirmed.sum()/confirm_num*100:.2f}%)')"
   ]
  },
  {
   "cell_type": "code",
   "execution_count": null,
   "metadata": {},
   "outputs": [],
   "source": [
    "# 집단감염 사례 중 '지역 간 전파(3개 이상 시/도에서 관련 확진자 발생)' 사례만 추출 (8개 사례)\n",
    "big_case_list = case_df[case_df.group].infection_case.value_counts()\n",
    "big_case_list = big_case_list[big_case_list>=3].index.tolist()\n",
    "big_case_df = case_df[case_df.infection_case.isin(big_case_list)]\n",
    "\n",
    "# '지역 간 전파'가 일어난 집단감염 사례들의 지역별 확진자 수 시각화\n",
    "sido_infection_by_case = pd.crosstab(index=big_case_df.infection_case, columns=big_case_df.province,\n",
    "                                     values=big_case_df.confirmed, aggfunc=sum, margins=True)\\\n",
    "                              .fillna(0).astype(int)\\\n",
    "                              .sort_values('All', ascending=False).T.sort_values('All', ascending=False)\n",
    "\n",
    "print(f'>>> 지역 간 전파가 일어난 집단감염 사례 : {sido_infection_by_case.shape[1]-1}개 \\n')\n",
    "case_kor_dict = {key:val for key, val \\\n",
    "                 in zip(sido_infection_by_case.columns,\n",
    "                        ['합계', '신천지', '이태원클럽', '리치웨이', '구로구 콜센터', '쿠팡 물류센터', '청도대남병원', '대전 방문판매 업체', '금천구 육류공장'])}\n",
    "tmp_df = sido_infection_by_case.copy()\n",
    "tmp_df.columns = case_kor_dict.values()\n",
    "tmp_df.iloc[1:].style.background_gradient('Reds')"
   ]
  },
  {
   "cell_type": "markdown",
   "metadata": {},
   "source": [
    "- 지역별 분석을 위해, 감염 사례 중 지역 간 전파가 일어난 집단감염 사례들을 살펴봄  \n",
    "- 지역 간 전파(3개 이상 시/도에서 관련 확진자 발생)가 일어난 집단감염 사례는 총 8개로 확인됨\n",
    "- 해당 집단감염 사례들의 확진자 분포는 대구-경북 지역, 수도권(서울/경기/인천) 지역, 충청권(대전/충북/충남) 등의 순으로 높게 분포함\n",
    "- 각 집단감염 사례의 지역별 환자 분포는 대체로 생활권이 겹치는 곳에 집중되는 것으로 파악됨 (ex. 수도권에 속하는 서울/경기/인천 지역 중 한 곳에서 집단감염이 발생하면, 수도권 전체 지역에 확진자 집중)"
   ]
  },
  {
   "cell_type": "code",
   "execution_count": null,
   "metadata": {},
   "outputs": [],
   "source": [
    "# 집단감염 사례별 확인\n",
    "for case in sido_infection_by_case.columns:\n",
    "  if case!='All':\n",
    "    show_infection_case(case)"
   ]
  },
  {
   "cell_type": "markdown",
   "metadata": {},
   "source": [
    "## 코로나19 데이터 분석 - 소결론\n",
    "- 시기별로 보았을 때, 신천지 집단감염 사태가 발생했던 8주차-14주차(2-3월)와 이태원 집단감염 사태 등이 발생했던 19주차 이후(5-6월)에 확진자가 집중적으로 발생함\n",
    "\n",
    "- 지역별로 보았을 때, 한 지역에서 집단감염이 발생하면 해당 지역과 생활권이 밀접한 지역에 우선적으로 전파가 일어남"
   ]
  },
  {
   "cell_type": "markdown",
   "metadata": {},
   "source": [
    "## 3. 발권 OD 데이터 분석\n",
    "- **철도/시외버스/고속버스 통행인원을 출발-도착 지역별로 제공**하는 데이터\n",
    "- 교통수단 특성상 주로 **장거리를 이동하는 교통량**을 반영하는 데이터로 추정됨\n",
    "- 시간범위 : 2019년 1\\~5월, 2020년 1\\~5월 (10개월 간)"
   ]
  },
  {
   "cell_type": "markdown",
   "metadata": {},
   "source": [
    "### 3-1. 시기별 분석 - 연도별/월별/주차별 합산 통행인원"
   ]
  },
  {
   "cell_type": "code",
   "execution_count": null,
   "metadata": {},
   "outputs": [],
   "source": [
    "# 연도별 통행량 시각화\n",
    "plot_OD_traffic_by_time(ticket_df, by='year', y_col='TOTAL_TRFC_STF', title='연도별 합산 통행인원', figsize=(5, 6))"
   ]
  },
  {
   "cell_type": "markdown",
   "metadata": {},
   "source": [
    "- 발권 OD 데이터 상 2020년 1\\~5월 합산 통행인원은 전년 동기 대비 약 40% 가까이 급격하게 하락함\n",
    "- 2020년 상반기 코로나19의 대확산으로 인해 시/도간 장거리 통행량이 감소했으며, 아울러 시외버스/철도 등의 대중교통 사용을 기피하는 분위가 커진 탓으로 추정됨"
   ]
  },
  {
   "cell_type": "code",
   "execution_count": null,
   "metadata": {},
   "outputs": [],
   "source": [
    "# 월별 통행량 시각화\n",
    "plot_OD_traffic_by_time(ticket_df, by='month', y_col='TOTAL_TRFC_STF', title='월별 합산 통행인원', figsize=(8, 6))"
   ]
  },
  {
   "cell_type": "markdown",
   "metadata": {},
   "source": [
    "- 월별로 2019년과 2020년을 비교해 볼 때, 1월의 통행인원은 약 29백만 명으로 전년 대비 10% 이상 증가했지만, 코로나19가 급속도로 확산되었던 2월부터 급감해 3월에는 9백만여 명으로 전년 대비 67% 이상 감소함\n",
    "- 코로나19 확산세가 진정되면서, 2020년 3\\~5월 사이 통행인원은 9백만 명에서 17백만 명으로 두 배 가까이 상승함. 그러나 돌이켜볼 때 이는 이후 이태원 집단감염 등 추가적인 지역 간 전파의 불씨가 되었음\n",
    "- 이처럼 2020년 3\\~5월 사이 통행인원이 급격히 증가하기는 했지만, 여전히 전년 동기 대비 절반 수준에 그침"
   ]
  },
  {
   "cell_type": "code",
   "execution_count": null,
   "metadata": {},
   "outputs": [],
   "source": [
    "# 주차별 통행량 시각화\n",
    "plot_OD_traffic_by_time(ticket_df, by='weekofyear', y_col='TOTAL_TRFC_STF', title='주차별 합산 통행인원', figsize=(20, 6))"
   ]
  },
  {
   "cell_type": "markdown",
   "metadata": {},
   "source": [
    "- 주 단위로 살펴볼 때, 2019년의 경우 6주차 경, 2020년의 경우 4주차 경에 설(구정) 연휴로 인해 통행인원이 급증한 모습을 보임\n",
    "- 이후 신천지 집단감염 사태로 인해 코로나19가 급속도로 퍼진 9주차(2월 24일 이후)에는 전년 대비 통행인원이 무려 74% 가까이 급감하였음\n",
    "- 이후 코로나19 확산세가 위축되며 조금씩 증가하던 통행인원은 황금연휴가 포함된 18주차(4월 27일 이후)에 정점을 찍었다가 이태원 클럽 집단감염 사태 등으로 인해 다시 감소세에 접어듦\n",
    "<br><br>\n",
    "\n",
    "- 흥미로운 부분은, 전국적 대확산을 초래한 신천지 사태와 이태원 클럽 사태 등 **대규모 집단감염이 발생하기 직전 주에 통행량이 급증**했다는 사실임.\n",
    "- **7주차**의 경우 주간 통행량이 약 4.84백만 명으로 **전주 대비 10% 가량 급증**했으며, **18주차**의 경우 주간 통행량이 약 4.03백만 명으로 **전주 대비 36% 가량 급증**했음\n",
    "<br><br>"
   ]
  },
  {
   "cell_type": "markdown",
   "metadata": {},
   "source": [
    "### 3-2. 지역별 분석 - 특정 시/도에서 전국 각 지역으로 이동한 통행량\n",
    "- 발권 OD 데이터를 사용해 날짜별로 출발 시/도와 도착 시/도 통행량 합산을 구할 수 있음\n",
    "- 앞서 코로나19 데이터 분석에서 '지역 간 전파'를 유발한 5개 시/도를 확인했음\n",
    "- 해당 5개 시/도에서 전국 각 지역으로 이동한 통행량을 분석함으로써, **\"지역 간 연결성\"이 서로 높은 지역일수록 \"지역 간 전파\"가 쉽게 일어나는지 확인**할 수 있음"
   ]
  },
  {
   "cell_type": "code",
   "execution_count": null,
   "metadata": {},
   "outputs": [],
   "source": [
    "show_infection_case('Shincheonji Church')\n",
    "print('\\n')\n",
    "tmp_traffic_df = plot_traffic_by_sido(ticket_df, from_sido='대구광역시', date_range=['2020-01-01', '2020-06-01'], title='2020년 1~5월 시도별 대구발 통행량 (천명)', divide_num=1000)"
   ]
  },
  {
   "cell_type": "markdown",
   "metadata": {},
   "source": [
    "- **대구에서 발생한 신천지 집단감염 사태는 경상남/북도와 경기도 지역으로 전파**가 높게 일어남\n",
    "- 발권 OD 데이터에서 **대구발 통행량 상위 5위 안에 경상남/북도와 경기도가 모두 포함**됨. 다만 역시 상위 5위 안에 포함되어 있는 서울과 부산에서는 감염병 전파가 비교적 적게 일어남"
   ]
  },
  {
   "cell_type": "code",
   "execution_count": null,
   "metadata": {},
   "outputs": [],
   "source": [
    "show_infection_case('Cheongdo Daenam Hospital')\n",
    "print('\\n')\n",
    "tmp_traffic_df = plot_traffic_by_sido(ticket_df, from_sido='경상북도', date_range=['2020-01-01', '2020-06-01'], title='2020년 1~5월 시도별 경북발 통행량 (천 명)', divide_num=1000)"
   ]
  },
  {
   "cell_type": "markdown",
   "metadata": {},
   "source": [
    "- **경상북도에서 발생한 청도대남병원 집단감염 사태는 대구와 부산 지역으로 전파**가 높게 일어남\n",
    "- 발권 OD 데이터에서 **경북발 통행량 상위 3위 안에 대구와 부산이 모두 포함**되어 있음. 다만 역시 높은 통행량을 기록한 서울에서는 관련 확진자가 발생하지 않았음."
   ]
  },
  {
   "cell_type": "code",
   "execution_count": null,
   "metadata": {},
   "outputs": [],
   "source": [
    "for case in ['Itaewon Clubs', 'Richway', 'Guro-gu Call Center', 'Geumcheon-gu rice milling machine manufacture']:\n",
    "  show_infection_case(case)\n",
    "print('\\n')\n",
    "tmp_traffic_df = plot_traffic_by_sido(ticket_df, from_sido='서울특별시', date_range=['2020-01-01', '2020-06-01'], title='2020년 1~5월 시도별 서울발 통행량 (천 명)', divide_num=1000)"
   ]
  },
  {
   "cell_type": "markdown",
   "metadata": {},
   "source": [
    "- **서울에서 발생한 집단감염 사태들은 같은 수도권에 속하는 경기/인천 지역에 더해 충청권과 강원도로 전파**가 빈번하게 일어남\n",
    "- 발권 OD 데이터에서 **서울발 통행량 상위 5위 안에 해당 지역들이 대부분 포함**되어 있음\n",
    "<br><br>\n",
    "- 인천의 경우 통행량이 매우 적게 나타나는데, 장거리 이동이 주로 반영된 발권 OD 데이터보다는 이후 분석할 교통카드 OD 데이터와 DSRC 데이터에서 통행량이 높게 나타남\n",
    "- 대전의 경우에도 서울발 통행량이 높게 나타나는데, 집단감염 사례 중 \"대전 방문판매 업체\" 사례가 \"서울 리치웨이\" 사례로부터 전파된 사례임을 고려하면 이 역시 통행량과 관계가 있다고 추정할 수 있음  ([관련 뉴스기사 링크](https://biz.chosun.com/site/data/html_dir/2020/07/08/2020070801090.html))\n",
    "<br><br>"
   ]
  },
  {
   "cell_type": "code",
   "execution_count": null,
   "metadata": {},
   "outputs": [],
   "source": [
    "show_infection_case('Coupang Logistics Center')\n",
    "print('\\n')\n",
    "tmp_traffic_df = plot_traffic_by_sido(ticket_df, from_sido='경기도', date_range=['2020-01-01', '2020-06-01'], title='2020년 1~5월 시도별 경기발 통행량 (천 명)', divide_num=1000)"
   ]
  },
  {
   "cell_type": "markdown",
   "metadata": {},
   "source": [
    "- **경기도에서 발생한 쿠팡 물류센터 집단감염 사태는 수도권 내에서 전파**가 높게 일어남\n",
    "- 발권 OD 데이터에서 **경기발 통행량 상위 3위 안에 서울이 포함**되지만, 인천은 통행량이 낮게 나타남. 다만 장거리 이동이 주로 반영된 발권 OD 데이터보다는 이후 분석할 교통카드 OD 데이터와 DSRC 데이터에서 인천으로 향하는 통행량 역시 높게 나타남"
   ]
  },
  {
   "cell_type": "code",
   "execution_count": null,
   "metadata": {},
   "outputs": [],
   "source": [
    "show_infection_case('Door-to-door sales in Daejeon')\n",
    "print('\\n')\n",
    "tmp_traffic_df = plot_traffic_by_sido(ticket_df, from_sido='대전광역시', date_range=['2020-01-01', '2020-06-01'], title='2020년 1~5월 시도별 대전발 통행량 (천 명)', divide_num=1000)"
   ]
  },
  {
   "cell_type": "markdown",
   "metadata": {},
   "source": [
    "- **대전에서 발생한 방문판매 업체 집단감염 사태는 충청남도와 전라북도 지역으로 전파**가 높게 일어남\n",
    "- 발권 OD 데이터에서 **대전발 통행량 상위 5위 안에 충청남도와 전라북도가 모두 포함**되어 있음.\n",
    "- 대전발 통행량이 높게 나타난 **서울 및 경기 수도권 지역의 경우, 앞서 언급한 것처럼 방문판매 업체 확진자가 최초 유입된 지역**에 해당함. 따라서 역시 지역 간 통행량과 코로나19 지역 간 전파의 관계를 반영하는 대목이라고 할 수 있음\n",
    "<br><br>"
   ]
  },
  {
   "cell_type": "markdown",
   "metadata": {},
   "source": [
    "### 발권 OD 데이터 분석 - 소결론\n",
    "- 시기별로 보았을 때, 전국적인 대규모 집단감염이 발생하기 직전인 7주차와 18주차에 전주 대비 통행량이 급증함. 이는 역으로 발하면 **전주 대비 통행량이 급증한 주간에 대규모 집단감염 발생 위험이 높아진**다는 사실을 의미함\n",
    "<br><br>\n",
    "- 지역별로 보았을 때, 특정 지역에서 집단감염이 발생하면 해당 지역과 교통 이동량이 높은 지역으로 지역 간 전파가 일어날 가능성이 높은 것으로 나타남. 이는 역으로 말하면 **한 지역에서 집단감염이 발생한 경우 해당 지역과 교통 이동량이 높은 지역에서 선제적으로 방역 대책을 세우는 것이 유효한 대응일 수 있다**는 사실을 의미함.\n",
    "<br><br>"
   ]
  },
  {
   "cell_type": "markdown",
   "metadata": {},
   "source": [
    "## 4. 교통카드 OD 데이터 분석\n",
    "- **교통카드 사용 통행인원을 출발-도착 지역별로 제공**하는 데이터\n",
    "- 교통수단 특성상 발권 OD 데이터에 비해 상대적으로 **단거리를 이동하는 교통량**을 반영하는 데이터로 추정됨\n",
    "- 시간범위 : 2019년 1\\~5월, 2020년 1\\~5월 (10개월 간)"
   ]
  },
  {
   "cell_type": "markdown",
   "metadata": {},
   "source": [
    "### 4-1. 시기별 분석 - 연도별/월별/주차별 합산 통행인원"
   ]
  },
  {
   "cell_type": "code",
   "execution_count": null,
   "metadata": {},
   "outputs": [],
   "source": [
    "# 연도별 통행량 시각화\n",
    "plot_OD_traffic_by_time(card_df, by='year', y_col='TRFC_STF', title='연도별 합산 통행인원', figsize=(5, 6))"
   ]
  },
  {
   "cell_type": "markdown",
   "metadata": {},
   "source": [
    "- 2020년 1\\~5월 합산 통행인원은 전년 동기 대비 약 27% 가까이 하락함\n",
    "- 통행인원 감소가 적지 않지만, 약 40%로 대폭 감소한 발권 OD 데이터에 비해서는 적은 감소폭을 기록함\n",
    "- 이는 교통카드 OD 데이터에 통근, 통학 등 일상적이고 필수적인 단거리 교통량이 많이 반영되었기 때문으로 추정됨"
   ]
  },
  {
   "cell_type": "code",
   "execution_count": null,
   "metadata": {},
   "outputs": [],
   "source": [
    "# 월별 통행량 시각화\n",
    "plot_OD_traffic_by_time(card_df, by='month', y_col='TRFC_STF', title='월별 합산 통행인원', figsize=(8, 6))"
   ]
  },
  {
   "cell_type": "markdown",
   "metadata": {},
   "source": [
    "- 월별 합산 통행인원 추이를 살펴보면, 2019년에는 방학 등으로 인해 1\\~2월 통행인원이 감소했다가 개학시즌이 지나면서 대폭 증가하는 추세를 보임\n",
    "- 반면 2020년에는 코로나19 대확산으로 인해 오프라인 등교가 연기 또는 취소되면서, 3월 통행인원이 기간 내 최저치를 기록함\n",
    "- 코로나19 확산세가 진정되면서, 2020년 3\\~5월 사이 통행인원은 300백만 명에서 366백만 명으로 전년보다 빠른 속도로 상승하는 추세임. 그러나 돌이켜볼 때 이는 이후 이태원 집단감염 등 추가적인 집단 감염의 불씨가 되었음"
   ]
  },
  {
   "cell_type": "code",
   "execution_count": null,
   "metadata": {},
   "outputs": [],
   "source": [
    "# 주차별 통행량 시각화\n",
    "plot_OD_traffic_by_time(card_df, by='weekofyear', y_col='TRFC_STF', title='주차별 합산 통행인원', figsize=(20, 6))"
   ]
  },
  {
   "cell_type": "markdown",
   "metadata": {},
   "source": [
    "- 주 단위로 살펴볼 때, 2019년의 경우 6주차 경, 2020년의 경우 4주차 경에 설(구정) 연휴로 인해 통행인원이 급감한 모습을 보임.\n",
    "- 이는 해당 기간에 통행인원이 증가한 발권 OD 데이터와 상반되는 움직임으로, 연휴 기간에는 고향 방문 등 시/도간 장거리 이동이 증가하고 통근 등 시/도 내의 단거리 이동은 감소하기 때문인 것으로 판단됨\n",
    "- 2019년에는 어린이날 대체휴일 등이 포함된 19주차(5월 6일 이후)에 통행 인원이 전주 대비 감소함. 마찬가지로, 2020년에도 증가 추세이던 통행 인원이 황금연휴가 포함된 18주차(4월 27일 이후)에 전주 대비 소폭 감소함\n",
    "- 결국, 연휴기간 등 생활 패턴이 변하는 특수한 시기에 교통카드 이용 통행인원이 감소하는 반복적 패턴이 확인됨\n",
    "<br><br>\n",
    "- 발권 OD 데이터에서는 전국적인 대규모 집단감염이 발생하기 직전인 7주차와 18주차에 전주 대비 통행량이 급증했음. 그러나 교통카드 OD 데이터에서는 대규모 집단감염 발생시기 직전 특이한 동향이 발견되지는 않음.\n",
    "<br><br>"
   ]
  },
  {
   "cell_type": "markdown",
   "metadata": {},
   "source": [
    "### 4-2. 지역별 분석 - 특정 시/도에서 전국 각 지역으로 이동한 통행량"
   ]
  },
  {
   "cell_type": "code",
   "execution_count": null,
   "metadata": {},
   "outputs": [],
   "source": [
    "show_infection_case('Shincheonji Church')\n",
    "print('\\n')\n",
    "tmp_traffic_df = plot_traffic_by_sido(card_df, from_sido='대구광역시', date_range=['2020-01-01', '2020-06-01'], title='2020년 1~5월 시도별 대구발 통행량 (천 명)', divide_num=1000)"
   ]
  },
  {
   "cell_type": "markdown",
   "metadata": {},
   "source": [
    "- **대구에서 발생한 신천지 집단감염 사태는 경상남/북도와 경기도 지역으로 전파**가 높게 일어남\n",
    "- 교통카드 OD 데이터에서 **대구발 통행량은 경상남/북도에 집중**되어 있음. 주로 단거리 이동량이 반영된 데이터이기 때문에 경기도를 향한 교통량은 반영되지 않음"
   ]
  },
  {
   "cell_type": "code",
   "execution_count": null,
   "metadata": {},
   "outputs": [],
   "source": [
    "show_infection_case('Cheongdo Daenam Hospital')\n",
    "print('\\n')\n",
    "tmp_traffic_df = plot_traffic_by_sido(card_df, from_sido='경상북도', date_range=['2020-01-01', '2020-06-01'], title='2020년 1~5월 시도별 경북발 통행량 (천 명)', divide_num=1000)"
   ]
  },
  {
   "cell_type": "markdown",
   "metadata": {},
   "source": [
    "- **경상북도에서 발생한 청도대남병원 집단감염 사태는 대구와 부산 지역으로 전파**가 일어남\n",
    "- 교통카드 OD 데이터에서 **경북발 통행량은 압도적으로 대구 지역에 집중**되어 있음.\n"
   ]
  },
  {
   "cell_type": "code",
   "execution_count": null,
   "metadata": {},
   "outputs": [],
   "source": [
    "for case in ['Itaewon Clubs', 'Richway', 'Guro-gu Call Center', 'Geumcheon-gu rice milling machine manufacture']:\n",
    "  show_infection_case(case)\n",
    "print('\\n')\n",
    "tmp_traffic_df = plot_traffic_by_sido(card_df, from_sido='서울특별시', date_range=['2020-01-01', '2020-06-01'], title='2020년 1~5월 시도별 서울발 통행량 (천 명)', divide_num=1000)"
   ]
  },
  {
   "cell_type": "markdown",
   "metadata": {},
   "source": [
    "- **서울에서 발생한 집단감염 사태들은 같은 수도권에 속하는 경기/인천 지역에 더해 충청권과 강원도로 전파**가 빈번하게 일어남\n",
    "- 교통카드 OD 데이터에서 **서울발 통행량 상위 5위가 해당 지역과 일치**함"
   ]
  },
  {
   "cell_type": "code",
   "execution_count": null,
   "metadata": {},
   "outputs": [],
   "source": [
    "show_infection_case('Coupang Logistics Center')\n",
    "print('\\n')\n",
    "tmp_traffic_df = plot_traffic_by_sido(card_df, from_sido='경기도', date_range=['2020-01-01', '2020-06-01'], title='2020년 1~5월 시도별 경기발 통행량 (천 명)', divide_num=1000)"
   ]
  },
  {
   "cell_type": "markdown",
   "metadata": {},
   "source": [
    "- **경기도에서 발생한 쿠팡 물류센터 집단감염 사태는 수도권 내에서 전파**가 집중됨\n",
    "- 교통카드 OD 데이터에서 **경기발 통행량 상위 2개 도시가 서울과 인천으로 일치**함"
   ]
  },
  {
   "cell_type": "code",
   "execution_count": null,
   "metadata": {},
   "outputs": [],
   "source": [
    "show_infection_case('Door-to-door sales in Daejeon')\n",
    "print('\\n')\n",
    "tmp_traffic_df = plot_traffic_by_sido(card_df, from_sido='대전광역시', date_range=['2020-01-01', '2020-06-01'], title='2020년 1~5월 시도별 대전발 통행량 (천 명)', divide_num=1000)"
   ]
  },
  {
   "cell_type": "markdown",
   "metadata": {},
   "source": [
    "- **대전에서 발생한 방문판매 업체 집단감염 사태는 충청남도와 전라북도 지역으로 전파**가 높게 일어남\n",
    "- 교통카드 OD 데이터에서 **대전발 통행량 상위 3위 안에 충청남북도가 포함**되어 있음. 다만 통행량이 가장 높게 나타난 세종시의 경우 관련 확진자가 발생하지는 않았음"
   ]
  },
  {
   "cell_type": "markdown",
   "metadata": {},
   "source": [
    "### 교통카드 OD 데이터 분석 - 소결론\n",
    "- 교통카드 데이터는 주로 단거리 이동 통행량이 반영된 데이터로 추정됨\n",
    "- **통근, 통학 등 보다 일상적인 단거리 이동량이 높게 반영된 만큼, 발권 OD 데이터에 비해 코로나19 탄력성, 즉 코로나19로 인한 통행인원 변화량이 더 적은 것으로 나타남**\n",
    "<br><br>\n",
    "- 시기별 분석 및 지역별 분석 내용을 종합하여 볼 때, 교통카드 OD 데이터는 전국 단위의 코로나 대확산 선행지표로는 타당성이 다소 부족하다고 판단됨\n",
    "- 다만 **수도권, 경상권과 같이 생활권이 밀접하고 거리가 가까운 지역들의 코로나 확산 선행지표로는 의미**가 있는 것으로 판단됨. 지역 간 코로나 전파 위험성을 판단할 때 발권 OD 데이터를 보완하는 용도로 적합해 보임\n",
    "<br><br>"
   ]
  },
  {
   "cell_type": "markdown",
   "metadata": {},
   "source": [
    "## 5. DSRC 데이터 분석\n",
    "- 하이패스 차량단말기(OBU,RF형식)가 장착된 차량이 노변 기지국(RSE)을 통과할 때 수집된 데이터로,  차량의 경로 및 속도 등의 차량 통행패턴 정보 반영\n",
    "- 날짜별로 각 차량(OBU_ID)의 첫 기록과 마지막 기록을 추출해 압축 저장한 데이터셋 사용 → **날짜별 각 차량의 출발 지역과 도착 지역 정보**\n",
    "- 시간범위 : 2019년 1\\~5월, 2020년 1\\~5월 (10개월 간)"
   ]
  },
  {
   "cell_type": "markdown",
   "metadata": {},
   "source": [
    "### 5-1. 시기별 분석 - 연도별/월별/주차별 합산 통행량"
   ]
  },
  {
   "cell_type": "code",
   "execution_count": null,
   "metadata": {},
   "outputs": [],
   "source": [
    "# 연도별 합산 통행량 시각화\n",
    "plot_OD_traffic_by_time(dsrc_df, by='year', y_col='가상OBU_ID_COUNT', date_col='기준일자', title='연도별 합산 통행량', figsize=(5,6))"
   ]
  },
  {
   "cell_type": "markdown",
   "metadata": {},
   "source": [
    "- 2019년 대비 2020년에 통행량이 2.2% 증가\n",
    "- 발권 OD 데이터, 교통카드 OD 데이터와 같이 대중교통 수단과는 다르게 오히려 소폭 증가\n",
    "- **코로나의 확산으로 인하여 다른 사람과의 접촉이 적은 차량의 이용이 증가한 것으로 추정**"
   ]
  },
  {
   "cell_type": "code",
   "execution_count": null,
   "metadata": {},
   "outputs": [],
   "source": [
    "# 월별 합산 통행량 시각화\n",
    "plot_OD_traffic_by_time(dsrc_df, by='month', y_col='가상OBU_ID_COUNT', date_col='기준일자', title='월별 합산 통행량', figsize=(8,6))"
   ]
  },
  {
   "cell_type": "markdown",
   "metadata": {},
   "source": [
    "- 2020년 1월은 설날(구정) 때문에 작년에 비해 통행량이 약 11% 증가\n",
    "- 반면 본격적으로 코로나 전파가 시작된 20년 2월 전월 대비 약 15% 감소\n",
    "- 그럼에도 불구하고 전년 동월 비슷한 통행량을 기록함\n",
    "- 이후 신천지, 이태원 클럽 등의 집단 감염이 발생함에도 불구하고 발권 OD 데이터, 교통카드 OD 데이터와는 달리 가파르게 증가\n",
    "- 특히 20년 5월의 경우, 전년 동월 대비 약 4% 증가\n",
    "\n",
    "\n",
    "[참고 기사]<br>\n",
    "\"차막힘 이유 있었다\"...교통량, 코로나19 이전으로 복귀 -2020.7.13- <br>\n",
    "http://www.insjournal.co.kr/news/articleView.html?idxno=2449"
   ]
  },
  {
   "cell_type": "code",
   "execution_count": null,
   "metadata": {},
   "outputs": [],
   "source": [
    "# 주차별 합산 통행량 시각화\n",
    "plot_OD_traffic_by_time(dsrc_df, by='weekofyear', y_col='가상OBU_ID_COUNT', date_col='기준일자', title='주차별 합산 통행량', figsize=(20,6))"
   ]
  },
  {
   "cell_type": "markdown",
   "metadata": {},
   "source": [
    "- DSRC 데이터의 주차별 통행량은 앞서 발권 OD 데이터의 주차별 통행인원과 유사도가 높음\n",
    "<br><br>\n",
    "- 주 단위로 살펴볼 때, 2019년의 경우 6주차 경, 2020년의 경우 4주차 경에 설(구정) 연휴로 인해 통행인원이 급증함\n",
    "- 이후 신천지 집단감염 사태로 인해 코로나19가 급속도로 퍼진 9주차(2월 24일 이후)에는 전년 대비 통행인원이 급격히 감소함\n",
    "- 이후 코로나19 확산세가 위축되며 조금씩 증가하던 통행인원은 황금연휴가 포함된 18주차(4월 27일 이후)에 정점을 찍었다가 이태원 클럽 집단감염 사태 등으로 인해 다시 감소세에 접어듦\n",
    "<br><br>\n",
    "\n",
    "- 발권 OD 데이터와 유사하게, 전국적 대확산을 초래한 신천지 사태와 이태원 클럽 사태 등 **대규모 집단감염이 발생하기 직전 주에 통행량이 증가**했음.\n",
    "- **7주차**의 경우 주간 통행량이 약 11.08백만 대로 **전주 대비 2.3% 가량 증가**했으며, **18주차**의 경우 주간 통행량이 약 12.61백만 명으로 **전주 대비 약 9% 증가**했음\n",
    "<br><br>"
   ]
  },
  {
   "cell_type": "markdown",
   "metadata": {},
   "source": [
    "### 5-2. 지역별 분석 - 특정 시/도에서 전국 각 지역으로 이동한 통행량"
   ]
  },
  {
   "cell_type": "code",
   "execution_count": null,
   "metadata": {},
   "outputs": [],
   "source": [
    "show_infection_case('Shincheonji Church')\n",
    "print('\\n')\n",
    "tmp_traffic_df = plot_traffic_by_sido(dsrc_df, from_sido='대구광역시', date_range=['2020-01-01', '2020-06-01'], title='2020년 1~5월 시도별 대구발 통행량 (천 대)', divide_num=1000)"
   ]
  },
  {
   "cell_type": "markdown",
   "metadata": {},
   "source": [
    "- **대구에서 발생한 신천지 집단감염 사태는 경상남/북도와 경기도 지역으로 전파**가 높게 일어남\n",
    "- DSRC 데이터에서도 **대구발 통행량 상위 3위가 경북, 경남, 경기도 지역으로 정확히 일치**하는 것을 확인할 수 있음"
   ]
  },
  {
   "cell_type": "code",
   "execution_count": null,
   "metadata": {},
   "outputs": [],
   "source": [
    "show_infection_case('Itaewon Clubs')\n",
    "print('\\n')\n",
    "tmp_traffic_df = plot_traffic_by_sido(dsrc_df, from_sido='서울특별시', date_range=['2020-01-01', '2020-06-01'], title='2020년 1~5월 시도별 서울발 통행량 (천 대)', divide_num=1000)"
   ]
  },
  {
   "cell_type": "markdown",
   "metadata": {},
   "source": [
    "- **서울에서 발생한 이태원 클럽 집단감염 사태는 같은 수도권에 속하는 경기/인천 지역에 더해 충청북도로 전파**가 높게 일어남\n",
    "- DSRC 데이터에서 **서울발 통행량 상위 4위 내에 해당 지역이 모두 포함**되는 것을 확인할 수 있음. 단 역시 통행량이 높게 나타난 충청북도에서는 관련 확진자가 발생하지 않았음"
   ]
  },
  {
   "cell_type": "code",
   "execution_count": null,
   "metadata": {},
   "outputs": [],
   "source": [
    "show_infection_case('Guro-gu Call Center')\n",
    "print('\\n')\n",
    "tmp_traffic_df = plot_traffic_by_sido(dsrc_df, from_sido='서울특별시', date_range=['2020-01-01', '2020-06-01'], title='2020년 1~5월 시도별 서울발 통행량 (천 대)', divide_num=1000)"
   ]
  },
  {
   "cell_type": "markdown",
   "metadata": {},
   "source": [
    "- **서울에서 발생한 구로구 집단감염 사태는 같은 수도권에 속하는 경기/인천 지역에 더해 충청북도로 전파**가 일어남\n",
    "- DSRC 데이터에서 **서울발 통행량 상위 4위 내에 해당 지역이 모두 포함**되는 것을 확인할 수 있음. 단 역시 통행량이 높게 나타난 충청남도에서는 관련 확진자가 발생하지 않았음"
   ]
  },
  {
   "cell_type": "code",
   "execution_count": null,
   "metadata": {},
   "outputs": [],
   "source": [
    "show_infection_case('Coupang Logistics Center')\n",
    "print('\\n')\n",
    "tmp_traffic_df = plot_traffic_by_sido(dsrc_df, from_sido='경기도', date_range=['2020-01-01', '2020-06-01'], title='2020년 1~5월 시도별 경기발 통행량 (천 대)', divide_num=1000)"
   ]
  },
  {
   "cell_type": "markdown",
   "metadata": {},
   "source": [
    "- **경기도에서 발생한 쿠팡 물류센터 집단감염 사태는 수도권 내에서 전파**가 집중됨\n",
    "- DSRC 데이터에서 **경기발 통행량 상위 2개 도시가 수도권 2개 시도로 정확히 일치**하는 것을 확인할 수 있음\n",
    "<br><br>"
   ]
  },
  {
   "cell_type": "markdown",
   "metadata": {},
   "source": [
    "### DSRC 데이터 분석 - 소결론\n",
    "- 차량을 이용한 통행량은 전년 대비 소폭 증가함. **코로나19 확산 이후 타인과 접촉이 적은 자가용 등의 개인적 이동수단을 선호하는 경향이 반영**된 것으로 판단됨\n",
    "<br><br>\n",
    "\n",
    "- 시기별로 보았을 때, 발권 OD 데이터와 유사하게 전국적인 대규모 집단감염이 발생하기 직전인 7주차와 18주차에 전주 대비 통행량이 증가함. **전주 대비 통행량이 급증한 주간에 대규모 집단감염 발생 위험이 높아진**다는 사실을 재차 확인할 수 있음\n",
    "<br><br>\n",
    "\n",
    "- 지역별로 보았을 때, 발권 OD 데이터와 마찬가지로 특정 지역에서 집단감염이 발생하면 해당 지역과 교통 이동량이 높은 타 지역으로 지역 간 전파가 일어날 가능성이 높음. **한 지역에서 집단감염이 발생한 경우 해당 지역과 교통 이동량이 높은 지역에서 선제적으로 방역 대책을 세우는 것이 유효한 대응일 수 있다**는 사실을 재차 확인할 수 있음.\n",
    "<br><br>"
   ]
  },
  {
   "cell_type": "markdown",
   "metadata": {},
   "source": [
    "## 6. 코로나 대확산 선행지표 개발\n",
    "- 이상의 시기별/지역별 분석을 통해, **지역(시/도) 간 통행량 데이터와 코로나19 확진자 수 데이터 사이의 관련성**을 확인하였음\n",
    "- 이제 두 데이터 사이에서 발견된 관련성을 이용해, **시기별/지역별 코로나 대확산 선행지표**를 제안하고자 함"
   ]
  },
  {
   "cell_type": "markdown",
   "metadata": {},
   "source": [
    "### 6-1. 시기별 선행지표 - 주차별 합산 통행 변화량\n",
    "- 통행량 데이터 분석에서 **주차별 통행량과 주간 코로나19 확진자 수 사이의 관련성**을 확인함\n",
    "- 보다 정확한 비교를 위해, 각 주차별 전주 대비 통행 변화량을 계산함<br>\n",
    "(**전주 대비 통행 변화량** : 해당 주차의 통행량에서 전 주차의 통행량을 차감한 값)"
   ]
  },
  {
   "cell_type": "code",
   "execution_count": null,
   "metadata": {},
   "outputs": [],
   "source": [
    "# 발권 OD 데이터 주차별 전주 대비 통행 변화량 시각화\n",
    "tmp_df = get_weekly_traffic(ticket_df, y_col='TOTAL_TRFC_STF')\n",
    "tmp_df['pre_week_TRFC'] = [1] + tmp_df['TOTAL_TRFC_STF'].iloc[:-1].tolist()\n",
    "tmp_df['diff_rate_TRFC'] = tmp_df['TOTAL_TRFC_STF'].subtract(tmp_df['pre_week_TRFC'])\n",
    "\n",
    "plt.figure(figsize=(15, 6))\n",
    "barlist = plt.bar(tmp_df.iloc[1:].weekofyear, tmp_df.iloc[1:].diff_rate_TRFC, color='tab:blue')\n",
    "for x in [1, 4, 15]:\n",
    "  plt.text(x-0.5, tmp_df.loc[x+1, 'diff_rate_TRFC']+0.15, 'Warning!', color='red', fontweight='bold')\n",
    "  barlist[x].set_color('tab:red')\n",
    "plt.title('주차별 전주 대비 통행 변화량 (백만 명)')\n",
    "plt.xticks(rotation=45)\n",
    "plt.show()"
   ]
  },
  {
   "cell_type": "markdown",
   "metadata": {},
   "source": [
    "- 각 주차별로 발권 OD 데이터에서 전국의 직전 주 대비 통행량의 변화량을 계산함\n",
    "- **직전 주 대비 통행량**은 분석 대상 범위 내에서 **4주차, 7주차, 18주차에 최고치**를 기록함\n",
    "- 8주차(신천지 사태)와 19주차(이태원 클럽 사태)에 각각 전국적 집단감염이 발발했다는 사실을 고려할 때, **주차별 발권 OD 변화량은 일종의 선행지표가 될 수 있음**을 시사함\n"
   ]
  },
  {
   "cell_type": "code",
   "execution_count": null,
   "metadata": {},
   "outputs": [],
   "source": [
    "# DSRC 데이터 주차별 전주 대비 통행 변화량 시각화\n",
    "tmp_df = get_weekly_traffic(dsrc_df, y_col='가상OBU_ID_COUNT', date_col='기준일자')\n",
    "tmp_df['pre_week_TRFC'] = [1] + tmp_df['가상OBU_ID_COUNT'].iloc[:-1].tolist()\n",
    "tmp_df['diff_rate_TRFC'] = tmp_df['가상OBU_ID_COUNT'].subtract(tmp_df['pre_week_TRFC'])\n",
    "\n",
    "plt.figure(figsize=(15, 6))\n",
    "barlist = plt.bar(tmp_df.iloc[1:].weekofyear, tmp_df.iloc[1:].diff_rate_TRFC, color='tab:blue')\n",
    "for x in [1, 12, 15]:\n",
    "  plt.text(x-0.5, tmp_df.loc[x+1, 'diff_rate_TRFC']+0.15, 'Warning!', color='red', fontweight='bold')\n",
    "  barlist[x].set_color('tab:red')\n",
    "plt.title('주차별 전주 대비 통행 변화량 (백만 대)')\n",
    "plt.xticks(rotation=45)\n",
    "plt.show()"
   ]
  },
  {
   "cell_type": "markdown",
   "metadata": {},
   "source": [
    "- 각 주차별로 DSRC 데이터에서 전국의 직전 주 대비 통행량의 변화량을 계산함\n",
    "- **직전 주 대비 통행량**은 분석 대상 범위 내에서 **4주차, 15주차, 18주차에 최고치**를 기록함\n",
    "- 본 데이터는 19주차(이태원 클럽 사태)의 위험성을 반영하기는 하지만, 발권 OD 데이터만큼 전국적 집단 감염 발발과 관련성이 높다고 보기는 어려움\n",
    "- 그러나 **전국 시/도간 장거리 이동량을 반영하는 발권 OD 데이터와 유사성이 있기 때문에, 발권 OD 데이터를 보완하는 보조지표로 의미**가 있다고 생각됨\n",
    "<br><br>"
   ]
  },
  {
   "cell_type": "markdown",
   "metadata": {},
   "source": [
    "### 6-2. 지역별 선행지표 - 시/도간 평균 통행량"
   ]
  },
  {
   "cell_type": "markdown",
   "metadata": {},
   "source": [
    "- 통행량 데이터 분석에서 **지역 간 통행량과 지역 간 집단감염 전파량 사이의 관련성**을 확인함\n",
    "- 발권 OD 데이터, 교통카드 OD 데이터, DSRC 데이터들의 가중평균인 **지역 간 연결성(지역 간 이동 통행량)**이라는 지표를 정의하여, 타 지역에 비해 서로 집단감염 전파 위험도가 높은 지역을 선별하고자 함\n",
    "- 이렇게 새롭게 정의된 '지역 간 연결성' 지표는,  **특정 지역에서 집단감염 발생 시 우선적으로 방역 대책이 필요한 타 지역을 선정하는 데 활용**될 수 있음\n",
    "- 이를 통해 **특정 지역의 집단감염이 전국적인 대규모 집단감염으로 번지는 상황을 최소화**할 수 있음\n",
    "<br><br>"
   ]
  },
  {
   "cell_type": "markdown",
   "metadata": {},
   "source": [
    "#### < 지역 간 연결성(지역 간 이동 통행량 가중평균) 지표 계산을 위한 데이터 전처리 >\n",
    "1. 육로가 없는 제주특별자치시를 제외하고, 전국 16개 시/도를 2개씩 묶은 지역 간 연결쌍 key 생성 (ex. 서울-경기, 서울-인천, 서울-강원, etc)\n",
    "2. 각 key 에 대한 교통 통행량(발권, 교통카드, DSRC)과 코로나19 확진자 수의 합계를 계산\n",
    "\n",
    "#### < 지역 간 연결성(지역 간 이동 통행량 가중평균) 지표 계산을 위한 가중치 생성 >\n",
    "- DSRC, 발권OD, 교통카드OD 데이터 간의 다중공선성 확인 후 적합한 선형회귀분석 진행 (Robust Regression)\n",
    "- 회귀분석 결과로 나온 가중치(weight)를 각 데이터에 곱해 하나의 통합 지표(**지역 간 연결성, \"TOTAL_SCORE\"**) 계산"
   ]
  },
  {
   "cell_type": "code",
   "execution_count": null,
   "metadata": {},
   "outputs": [],
   "source": [
    "# 시도 간 경로 집합 생성\n",
    "ticket_df['시도_집합'] = ticket_df.apply(lambda x: str(set(sorted([x['출발_시도명'], x['도착_시도명']]))), axis=1)\n",
    "card_df['시도_집합'] = card_df.apply(lambda x: str(set(sorted([x['출발_시도명'], x['도착_시도명']]))), axis=1)\n",
    "dsrc_df['시도_집합'] = dsrc_df.apply(lambda x: str(set(sorted([x['출발_시도_NM'], x['도착_시도_NM']]))), axis=1)\n",
    "\n",
    "# 시도 집합별 통행량\n",
    "ticket_df_grp = ticket_df.groupby('시도_집합')[['RLRD_TRFC_STF', 'ITCBUS_TRFC_STF', 'EXPBUS_TRFC_STF']].sum().reset_index()\n",
    "card_df_grp = card_df.groupby('시도_집합')['TRFC_STF'].sum().reset_index()\n",
    "dsrc_df_grp = dsrc_df.groupby('시도_집합')['가상OBU_ID_COUNT'].sum().reset_index()\n",
    "\n",
    "# 발권OD, 교통카드OD, DSRC 통합\n",
    "total_df = dsrc_df_grp.merge(ticket_df_grp, how='left', on='시도_집합')\n",
    "total_df = total_df.merge(card_df_grp, how='left', on='시도_집합')\n",
    "total_df.columns = ['시도_집합', 'DSRC', '발권OD_철도', '발권OD_시외버스', '발권OD_고속버스', '교통카드OD']\n",
    "\n",
    "# 시도_집합 전처리 & 정렬\n",
    "total_df['시도_집합'] = total_df['시도_집합'].apply(lambda x: sorted(re.sub(r\"[\\{\\}\\'\\s]\", \"\", x).split(',')))\n",
    "total_df = total_df.sort_values(by='시도_집합').reset_index(drop=True)\n",
    "total_df['시도_집합'] = total_df['시도_집합'].apply(lambda x: x * 2 if len(x) == 1 else x)\n",
    "total_df.fillna(0, inplace=True)\n",
    "for col in total_df.columns:\n",
    "    if col != '시도_집합':\n",
    "        total_df[col] = total_df[col].astype('int64')\n",
    "        \n",
    "display(total_df.head(2))"
   ]
  },
  {
   "cell_type": "code",
   "execution_count": null,
   "metadata": {},
   "outputs": [],
   "source": [
    "# 집단 감염 사례 (제주도 제외)\n",
    "big_case_df = big_case_df[~big_case_df['province'].isin(['제주도'])]\n",
    "\n",
    "# 시도명 key값 일치\n",
    "sido_correct = {'서울': '서울특별시', '부산': '부산광역시', '대구': '대구광역시', '광주': '광주광역시', \n",
    "                '인천': '인천광역시', '대전': '대전광역시', '울산': '울산광역시', '세종': '세종특별자치시'}\n",
    "big_case_df['province'] = big_case_df['province'].apply(lambda x: sido_correct[x] if x in sido_correct.keys() else x)\n",
    "\n",
    "# 집단 감염 사례 원천 시도명 컬럼 생성\n",
    "big_case_sido = big_case_df[(big_case_df['city'] != '타도시')][['province', 'infection_case']].drop_duplicates().reset_index(drop=True)\n",
    "big_case_sido_dict = dict(zip(big_case_sido['infection_case'], big_case_sido['province']))\n",
    "big_case_df['infection_case_province'] = big_case_df['infection_case'].apply(lambda x: big_case_sido_dict[x])\n",
    "\n",
    "# 시도_집합 key 컬럼 생성\n",
    "big_case_df['시도_집합'] = big_case_df.apply(lambda x: str(set(sorted([x['province'], x['infection_case_province']]))), axis=1)\n",
    "\n",
    "# 시도_집합별 확진자 합\n",
    "big_case_df_grp = big_case_df.groupby('시도_집합')['confirmed'].sum().reset_index()\n",
    "\n",
    "# 시도_집합 리스트 변환 및 전처리\n",
    "big_case_df_grp['시도_집합'] = big_case_df_grp['시도_집합'].apply(lambda x: sorted(re.sub(r\"[\\{\\}\\'\\s]\", \"\", x).split(',')))\n",
    "big_case_df_grp = big_case_df_grp.sort_values(by='시도_집합').reset_index(drop=True)\n",
    "big_case_df_grp['시도_집합'] = big_case_df_grp['시도_집합'].apply(lambda x: x * 2 if len(x) == 1 else x)\n",
    "\n",
    "# Join을 위한 임시 테이블\n",
    "total_df_tmp = copy.deepcopy(total_df)\n",
    "total_df_tmp['시도_집합_str'] = total_df_tmp['시도_집합'].apply(lambda x: str(x))\n",
    "\n",
    "big_case_df_grp_tmp = copy.deepcopy(big_case_df_grp)\n",
    "big_case_df_grp_tmp['시도_집합_str'] = big_case_df_grp_tmp['시도_집합'].apply(lambda x: str(x))\n",
    "\n",
    "# 교통량 데이터 & 확진자 데이터 Join\n",
    "col_list = ['시도_집합_x', 'DSRC', '발권OD_철도', '발권OD_시외버스', '발권OD_고속버스', '교통카드OD', 'confirmed']\n",
    "result_df = total_df_tmp.merge(big_case_df_grp_tmp, how='left', on='시도_집합_str')[col_list].fillna(0)\n",
    "result_df.columns = ['시도_집합', 'DSRC', '발권OD_철도', '발권OD_시외버스', '발권OD_고속버스', '교통카드OD', '확진자']\n",
    "result_df = result_df[result_df['시도_집합'].apply(lambda x: False if len(set(x)) == 1 else True)]\n",
    "display(result_df.head())"
   ]
  },
  {
   "cell_type": "code",
   "execution_count": null,
   "metadata": {},
   "outputs": [],
   "source": [
    "display(result_df.drop(columns=['시도_집합', '확진자']).corr())\n",
    "sns.pairplot(result_df.drop(columns=['시도_집합', '확진자']))"
   ]
  },
  {
   "cell_type": "markdown",
   "metadata": {},
   "source": [
    "- 강한 다중공선성이 보이진 않으나, 강한 outlier들이 발견됨\n",
    "- outlier에 비교적 덜 민감한 Robust Regression 을 활용해, 각 통행량 데이터에 곱해줄 가중치 계산"
   ]
  },
  {
   "cell_type": "code",
   "execution_count": null,
   "metadata": {},
   "outputs": [],
   "source": [
    "# r squared 스코어, 5개의 교차검증 fold, 모델 계수 리스트 준비\n",
    "scores = np.zeros(5)\n",
    "cv = KFold(5, shuffle=True, random_state=0)\n",
    "coefficient_list = []\n",
    "\n",
    "# 교차 검증을 통한 Robust Regression weight 구하기\n",
    "df = result_df.drop(columns=['시도_집합'])\n",
    "for i, (idx_train, idx_test) in enumerate(cv.split(df)):\n",
    "    \n",
    "    # train, test 데이터\n",
    "    df_train = df.iloc[idx_train]\n",
    "    df_test = df.iloc[idx_test]\n",
    "    \n",
    "    # model 생성\n",
    "    model = HuberRegressor().fit(df_train.drop(columns='확진자'), df_train['확진자'])\n",
    "    \n",
    "    # 예측값 생성\n",
    "    pred = model.predict(df_test.drop(columns='확진자'))\n",
    "    \n",
    "    # train 데이터 R squared 측정\n",
    "    rsquared_train = model.score(df_train.drop(columns='확진자'), df_train['확진자'])\n",
    "    \n",
    "    # test 데이터 R squared 측정\n",
    "    rsquared_test = model.score(df_test.drop(columns='확진자'), df_test['확진자'])\n",
    "    \n",
    "    scores[i] = rsquared_test\n",
    "    print(\"학습 R2 = {:.8f}, 검증 R2 = {:.8f}\".format(rsquared_train, rsquared_test))\n",
    "    print(f'model coefficient : {model.coef_}')\n",
    "    coefficient_list.append(model.coef_)\n",
    "    print('\\n')"
   ]
  },
  {
   "cell_type": "markdown",
   "metadata": {},
   "source": [
    "- 데이터가 적기 때문에 검증 R squared가 음으로 나옴\n",
    "- 그 중 학습 R squared가 높은 첫 번째 모델의 coefficient 선택"
   ]
  },
  {
   "cell_type": "code",
   "execution_count": null,
   "metadata": {},
   "outputs": [],
   "source": [
    "coefficient = coefficient_list[0]\n",
    "result_df['TOTAL_SCORE'] = result_df['DSRC']*coefficient[0] + result_df['발권OD_철도']*coefficient[1] + result_df['발권OD_시외버스']*coefficient[2] +\\\n",
    "                           result_df['발권OD_고속버스']*coefficient[3] + result_df['교통카드OD']*coefficient[4]\n",
    "display(result_df.sort_values(by='TOTAL_SCORE', ascending=False).head())"
   ]
  },
  {
   "cell_type": "markdown",
   "metadata": {},
   "source": [
    "- 회귀모델에서 얻은 coefficient를 각각의 통행량 데이터에 곱해 합산한 값(가중평균)을 TOTAL_SCORE(지역 간 연결성)로 정의\n",
    "- 최종적으로 계산한 각 지역 간 연결쌍별 TOTAL_SCORE(지역 간 연결성) 지표는 코로나19 지역 간 전파량에 기반해 학습되음\n",
    "- 따라서, **TOTAL_SCORE(지역 간 연결성) 지표는 곧 지역 간 코로나 전파 위험도를 반영하는 지표**라고 할 수 있음"
   ]
  },
  {
   "cell_type": "code",
   "execution_count": null,
   "metadata": {},
   "outputs": [],
   "source": [
    "# 서울과 교통 연결성이 높은 Top 5 지역 정보\n",
    "tmp_sido = '서울특별시'\n",
    "tmp_val = 'TOTAL_SCORE'\n",
    "\n",
    "tmp_df = result_df.loc[ result_df.시도_집합.apply(lambda tmp_list : tmp_sido in tmp_list and tmp_list[0]!=tmp_list[1]),\n",
    "                       ['시도_집합', tmp_val] ].copy()\n",
    "tmp_df['시도_집합'] = tmp_df['시도_집합'].apply(lambda x : [i for i in x if i!=tmp_sido][0])\n",
    "display(tmp_df.head(5).reset_index(drop=True))\n",
    "\n",
    "\n",
    "# 각 시도별 서울과의 연결성 지도 - 용량 한계로 지도 캡쳐 이미지를 대신 출력\n",
    "tmp_gdf = merge_gdf(main_gdf=district_geo_df, value_df=tmp_df, right_on='시도_집합', divide_num=1)\n",
    "title, map1 = plot_choropleth_by_sido(tmp_gdf, value_col=tmp_val, sido_col='CTP_KOR_NM')\n",
    "map1.save(f'{title}.html')\n",
    "\n",
    "# 지도 파일에서 직접 캡쳐한 이미지 출력\n",
    "map_img = Image.open(f'{title}.png')\n",
    "plt.figure(figsize=(15, 20))\n",
    "plt.imshow(map_img)\n",
    "plt.show()"
   ]
  },
  {
   "cell_type": "markdown",
   "metadata": {},
   "source": [
    "- 서울과 '지역 간 연결성'이 높은 지역은 경기도, 인천 지역"
   ]
  },
  {
   "cell_type": "code",
   "execution_count": null,
   "metadata": {},
   "outputs": [],
   "source": [
    "# 대구와 교통 연결성이 높은 Top 5 지역 정보\n",
    "tmp_sido = '대구광역시'\n",
    "tmp_val = 'TOTAL_SCORE'\n",
    "\n",
    "tmp_df = result_df.loc[ result_df.시도_집합.apply(lambda tmp_list : tmp_sido in tmp_list and tmp_list[0]!=tmp_list[1]),\n",
    "                       ['시도_집합', tmp_val] ].copy()\n",
    "tmp_df['시도_집합'] = tmp_df['시도_집합'].apply(lambda x : [i for i in x if i!=tmp_sido][0])\n",
    "display(tmp_df.head(5).reset_index(drop=True))\n",
    "\n",
    "\n",
    "# 각 시도별 대구와의 연결성 지도 - 용량 한계로 지도 캡쳐 이미지를 대신 출력\n",
    "tmp_gdf = merge_gdf(main_gdf=district_geo_df, value_df=tmp_df, right_on='시도_집합', divide_num=1)\n",
    "title, map1 = plot_choropleth_by_sido(tmp_gdf, value_col=tmp_val, sido_col='CTP_KOR_NM')\n",
    "map1.save(f'{title}.html')\n",
    "\n",
    "# 지도 파일에서 직접 캡쳐한 이미지 출력\n",
    "map_img = Image.open(f'{title}.png')\n",
    "plt.figure(figsize=(15, 20))\n",
    "plt.imshow(map_img)\n",
    "plt.show()"
   ]
  },
  {
   "cell_type": "markdown",
   "metadata": {},
   "source": [
    "- 대구와 '지역 간 연결성'이 높은 지역은 경북, 서울 지역"
   ]
  },
  {
   "cell_type": "code",
   "execution_count": null,
   "metadata": {},
   "outputs": [],
   "source": [
    "# 대전과 교통 연결성이 높은 Top 5 지역 정보\n",
    "tmp_sido = '대전광역시'\n",
    "tmp_val = 'TOTAL_SCORE'\n",
    "\n",
    "tmp_df = result_df.loc[ result_df.시도_집합.apply(lambda tmp_list : tmp_sido in tmp_list and tmp_list[0]!=tmp_list[1]),\n",
    "                       ['시도_집합', tmp_val] ].copy()\n",
    "tmp_df['시도_집합'] = tmp_df['시도_집합'].apply(lambda x : [i for i in x if i!=tmp_sido][0])\n",
    "display(tmp_df.head(5).reset_index(drop=True))\n",
    "\n",
    "\n",
    "# 각 시도별 대전과의 연결성 지도 - 용량 한계로 지도 캡쳐 이미지를 대신 출력\n",
    "tmp_gdf = merge_gdf(main_gdf=district_geo_df, value_df=tmp_df, right_on='시도_집합', divide_num=1)\n",
    "title, map1 = plot_choropleth_by_sido(tmp_gdf, value_col=tmp_val, sido_col='CTP_KOR_NM')\n",
    "map1.save(f'{title}.html')\n",
    "\n",
    "# 지도 파일에서 직접 캡쳐한 이미지 출력\n",
    "map_img = Image.open(f'{title}.png')\n",
    "plt.figure(figsize=(15, 20))\n",
    "plt.imshow(map_img)\n",
    "plt.show()"
   ]
  },
  {
   "cell_type": "markdown",
   "metadata": {},
   "source": [
    "- 대전과 '지역 간 연결성'이 높은 지역은 서울, 경기, 충남, 세종 지역"
   ]
  },
  {
   "cell_type": "markdown",
   "metadata": {},
   "source": [
    "## 7. 결론\n",
    "- 본 분석에서 코로나19 데이터와 전국 통행량 데이터를 분석함으로써 확인한 사실들은 아래와 같음\n",
    "1. 시기별로 보았을 때, **전 주 대비 교통량이 급증한 주간에 대규모 집단감염이 발생할 위험**이 높아졌다\n",
    "2. 지역별로 보았을 때, **대중교통/고속도로 이동량으로 확인되는 \"지역 간 연결성\"이 서로 높은 지역들은 \"코로나19 지역 간 전파\"가 발생할 위험** 또한 높아졌다.\n",
    "<br><br>\n",
    "\n",
    "- 이상의 사실들을 바탕으로, 아래와 같은 지표들이 선제적 방역 대책을 수립하는 데 활용될 수 있을 것으로 기대됨\n",
    "1. **주차별 직전 주 대비 교통 변화량 → 대규모 집단감염 발발 위험도 반영**\n",
    "2. **지역별 타 지역과의 교통량(지역 간 연결성) → 집단감염 발발 시 전파 위험성이 높은 타 지역**\n",
    "\n",
    "<br><br>\n",
    "<img src='http://58.234.158.21:8081/Upload/Image/20200220/00000000000000085168.jpg' height=\"300\"/>\n",
    "<br><br>\n",
    "\n",
    "- 현재 방역대책은 주로 집단감염이 발생한 이후에 확진자들의 동선을 중심으로 역추적하거나 과거 집단감염이 발생한 장소들을 소독하는 등 **사후적 대책**이 주를 이루고 있음. 코로나19의 증상 발현이 감염 이후 1~2주라는 점을 고려한다면 확진자들이 집단적으로 증세를 보인 시점 이후에 적용되는 현 대책들은 한계가 있을 수 밖에 없으며, 수행 시간도 많이 소요되는 것들이 다수임.\n",
    "- 본 지표들이 완벽한 예측 지표라고 할 수는 없어도, 매주 **전주 대비 통행량의 변화를 모니터링** 하거나 **지역 간 이동 교통량(지역 간 연결성)을 모니터링**함으로써 아래의 대시보드 사례처럼 일종의 **사전 경보 체계(대시보드)**로 활용될 수 있음\n",
    "- 향후 시군구, 읍면동까지 세부적으로 연결된 교통량 데이터와 최근 광화문발 집단 감염 데이터를 확보하여 반영한다면, 코로나19와 교통량 간의 면밀한 관계를 파악할 수 있는 통합 대시보드 발전 가능\n",
    "\n",
    "\n",
    "- 이상의 사전적 지표들을 참고해 **시기적, 지역적인 선제적 방역 대책**이 적용된다면, 추후 **국지적 집단감염 발발 시 전국 단위로 퍼져나갈 가능성을 줄이는 데 기여**할 것으로 기대됨\n"
   ]
  },
  {
   "cell_type": "code",
   "execution_count": null,
   "metadata": {},
   "outputs": [],
   "source": []
  }
 ],
 "metadata": {
  "kernelspec": {
   "display_name": "Python 3",
   "language": "python",
   "name": "python3"
  },
  "language_info": {
   "codemirror_mode": {
    "name": "ipython",
    "version": 3
   },
   "file_extension": ".py",
   "mimetype": "text/x-python",
   "name": "python",
   "nbconvert_exporter": "python",
   "pygments_lexer": "ipython3",
   "version": "3.8.5"
  }
 },
 "nbformat": 4,
 "nbformat_minor": 4
}
